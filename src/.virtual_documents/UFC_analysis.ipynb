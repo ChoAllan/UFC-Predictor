import sys
sys.path.append( '..' )

import pandas as pd


ufc_table = pd.read_csv('../data/ufc.csv')


ufc_table.info()






