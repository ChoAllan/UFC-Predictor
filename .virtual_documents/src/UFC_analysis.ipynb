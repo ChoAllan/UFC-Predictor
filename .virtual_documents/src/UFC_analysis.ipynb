import sys
sys.path.append( '..' )

import pandas as pd
import pandas_profiling as pp


pip install Matplotlib


ufc_table = pd.read_csv('../data/ufc.csv')


ufc_table.head()


ufc_table.describe()





ufc_table.query("winner == 'blue'").shape[0]


ufc_table.query("winner == 'red'").shape[0]


ufc_table.shape[1]
